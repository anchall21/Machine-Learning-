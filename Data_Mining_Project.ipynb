{
 "cells": [
  {
   "cell_type": "code",
   "execution_count": 1,
   "id": "20dbabe7",
   "metadata": {},
   "outputs": [],
   "source": [
    "#Import required libraries\n",
    "import pandas as pd\n",
    "import numpy as np"
   ]
  },
  {
   "cell_type": "code",
   "execution_count": null,
   "id": "349f2db4",
   "metadata": {},
   "outputs": [],
   "source": []
  },
  {
   "cell_type": "code",
   "execution_count": 2,
   "id": "4dd95cde",
   "metadata": {},
   "outputs": [],
   "source": [
    "#1) Reading and Cleaning your dataset/s (Anchal)"
   ]
  },
  {
   "cell_type": "code",
   "execution_count": 3,
   "id": "f20ffb97",
   "metadata": {},
   "outputs": [],
   "source": [
    "#ncaa_regular_season_statistics = pd.read_csv(\"RegularSeasonDetailedResults.csv\")\n",
    "#ncaa_tournament_seeds = pd.read_csv(\"TourneySeeds.csv\")\n",
    "\n",
    "#Convert H/A/N to Home/Away/Neutral\n",
    "#Change column names to make it more clear\n",
    "#Check for NaN's"
   ]
  },
  {
   "cell_type": "code",
   "execution_count": 4,
   "id": "86ef669b",
   "metadata": {},
   "outputs": [
    {
     "name": "stdout",
     "output_type": "stream",
     "text": [
      "   Season  Daynum  Wteam  Wscore  Lteam  Lscore Wloc  Numot  Wfgm  Wfga  ...  \\\n",
      "0    2003      10   1104      68   1328      62    N      0    27    58  ...   \n",
      "1    2003      10   1272      70   1393      63    N      0    26    62  ...   \n",
      "2    2003      11   1266      73   1437      61    N      0    24    58  ...   \n",
      "3    2003      11   1296      56   1457      50    N      0    18    38  ...   \n",
      "4    2003      11   1400      77   1208      71    N      0    30    61  ...   \n",
      "\n",
      "   Lfga3  Lftm  Lfta  Lor  Ldr  Last  Lto  Lstl  Lblk  Lpf  \n",
      "0     10    16    22   10   22     8   18     9     2   20  \n",
      "1     24     9    20   20   25     7   12     8     6   16  \n",
      "2     26    14    23   31   22     9   12     2     5   23  \n",
      "3     22     8    15   17   20     9   19     4     3   23  \n",
      "4     16    17    27   21   15    12   10     7     1   14  \n",
      "\n",
      "[5 rows x 34 columns]\n"
     ]
    }
   ],
   "source": [
    "import pandas as pd\n",
    "tournament = pd.read_csv(\"RegularSeasonDetailedResults.csv\")\n",
    "tournament.isnull().sum()\n",
    "tournament.dropna(inplace = True)\n",
    "print(tournament.head(5))"
   ]
  },
  {
   "cell_type": "code",
   "execution_count": 5,
   "id": "9970a4bd",
   "metadata": {},
   "outputs": [
    {
     "name": "stdout",
     "output_type": "stream",
     "text": [
      "   Season Seed  Team\n",
      "0    1985  W01  1207\n",
      "1    1985  W02  1210\n",
      "2    1985  W03  1228\n",
      "3    1985  W04  1260\n",
      "4    1985  W05  1374\n"
     ]
    }
   ],
   "source": [
    "import pandas as pd\n",
    "tourney = pd.read_csv(\"TourneySeeds.csv\")\n",
    "tourney.isnull().sum()\n",
    "tourney.dropna(inplace = True)\n",
    "print(tourney.head(5))"
   ]
  },
  {
   "cell_type": "code",
   "execution_count": 9,
   "id": "8af90290",
   "metadata": {},
   "outputs": [
    {
     "name": "stdout",
     "output_type": "stream",
     "text": [
      "\n",
      "\n",
      "        Season  Daynum  Wteam  Wscore  Lteam  Lscore Wloc  Numot  Wfgm  Wfga  \\\n",
      "0        2003      10   1104      68   1328      62    N      0    27    58   \n",
      "1        2003      10   1272      70   1393      63    N      0    26    62   \n",
      "2        2003      11   1266      73   1437      61    N      0    24    58   \n",
      "3        2003      11   1296      56   1457      50    N      0    18    38   \n",
      "4        2003      11   1400      77   1208      71    N      0    30    61   \n",
      "...       ...     ...    ...     ...    ...     ...  ...    ...   ...   ...   \n",
      "71236    2016     132   1114      70   1419      50    N      0    26    52   \n",
      "71237    2016     132   1163      72   1272      58    N      0    22    48   \n",
      "71238    2016     132   1246      82   1401      77    N      1    28    58   \n",
      "71239    2016     132   1277      66   1345      62    N      0    25    60   \n",
      "71240    2016     132   1386      87   1433      74    N      0    35    54   \n",
      "\n",
      "       ...  Lfga3  Lftm  Lfta  Lor  Ldr  Last  Lto  Lstl  Lblk  Lpf  \n",
      "0      ...     10    16    22   10   22     8   18     9     2   20  \n",
      "1      ...     24     9    20   20   25     7   12     8     6   16  \n",
      "2      ...     26    14    23   31   22     9   12     2     5   23  \n",
      "3      ...     22     8    15   17   20     9   19     4     3   23  \n",
      "4      ...     16    17    27   21   15    12   10     7     1   14  \n",
      "...    ...    ...   ...   ...  ...  ...   ...  ...   ...   ...  ...  \n",
      "71236  ...     18     4     9    6   20    13   13     6     3   12  \n",
      "71237  ...     16    11    17    5   21    10    6     3     0   20  \n",
      "71238  ...     23    15    22   17   23    11   13     5     4   20  \n",
      "71239  ...     15    17    21    5   22    10    5     4     4   14  \n",
      "71240  ...     29    11    16   12   21    12    9     5     5   21  \n",
      "\n",
      "[71241 rows x 34 columns]\n"
     ]
    }
   ],
   "source": [
    "tournament_new = tournament.rename(columns={'wteam': 'Winning_Team', 'wscore': 'Winning_Score', 'lteam':'Losing_Team','lscore':'Losing_Score', \n",
    "                                            'numot': 'Overtime_Periods', 'wloc': 'Winning_Team_Location', 'wfgm':'Field_Goals_Achieved','wfga':'Field_Goals_Attempts',\n",
    "                                           'wfgm3': 'Three_Pointers_Made', 'wfga3': 'Three_Pointers_Attempts', 'wftm':'free_Throws_Made','wfta':'Free_Throws_Attempts',\n",
    "                                           'wor': 'Offensive_Rebounds', 'wdr ': 'Defensive_Rebounds', 'wast':'Assists','wto':'Turnovers', 'wstl': 'Steals',\n",
    "                                           'wblk': 'Blocks', 'wpf':'Personal_Fouls'})\n",
    "\n",
    "print(\"\\n\\n\", tournament_new)\n",
    "\n",
    "\n"
   ]
  },
  {
   "cell_type": "code",
   "execution_count": 7,
   "id": "449d4940",
   "metadata": {},
   "outputs": [],
   "source": [
    "#2) Decide whether you are merging your datasets or keeping them separate.\n",
    "#Merge RegularSeasonDetailedResults.csv with TourneySeeds.csv. \n",
    "#Get all 'Team' from TourneySeeds.csv and check to see if present in Wteam in RegularSeasonDetailedResults.csv.\n",
    "#Create a new column called 'WteamTourneyQual' and populate with Yes or No based on match"
   ]
  },
  {
   "cell_type": "code",
   "execution_count": 8,
   "id": "6e22ca3b",
   "metadata": {},
   "outputs": [
    {
     "ename": "NameError",
     "evalue": "name 'ncaa_regular_season_statistics' is not defined",
     "output_type": "error",
     "traceback": [
      "\u001b[0;31m---------------------------------------------------------------------------\u001b[0m",
      "\u001b[0;31mNameError\u001b[0m                                 Traceback (most recent call last)",
      "\u001b[0;32m<ipython-input-8-9ee389fdcd60>\u001b[0m in \u001b[0;36m<module>\u001b[0;34m\u001b[0m\n\u001b[0;32m----> 1\u001b[0;31m \u001b[0mconsolidated_df\u001b[0m \u001b[0;34m=\u001b[0m \u001b[0mncaa_regular_season_statistics\u001b[0m\u001b[0;34m.\u001b[0m\u001b[0mmerge\u001b[0m\u001b[0;34m(\u001b[0m\u001b[0mncaa_tournament_seeds\u001b[0m\u001b[0;34m,\u001b[0m \u001b[0mhow\u001b[0m\u001b[0;34m=\u001b[0m\u001b[0;34m'left'\u001b[0m\u001b[0;34m,\u001b[0m \u001b[0mleft_on\u001b[0m\u001b[0;34m=\u001b[0m\u001b[0;34m[\u001b[0m\u001b[0;34m\"Season\"\u001b[0m\u001b[0;34m,\u001b[0m \u001b[0;34m\"Wteam\"\u001b[0m\u001b[0;34m]\u001b[0m\u001b[0;34m,\u001b[0m \u001b[0mright_on\u001b[0m\u001b[0;34m=\u001b[0m\u001b[0;34m[\u001b[0m\u001b[0;34m\"Season\"\u001b[0m\u001b[0;34m,\u001b[0m \u001b[0;34m\"Team\"\u001b[0m\u001b[0;34m]\u001b[0m\u001b[0;34m)\u001b[0m\u001b[0;34m\u001b[0m\u001b[0;34m\u001b[0m\u001b[0m\n\u001b[0m\u001b[1;32m      2\u001b[0m \u001b[0mconsolidated_df\u001b[0m\u001b[0;34m[\u001b[0m\u001b[0;34m'WteamTourneyQual'\u001b[0m\u001b[0;34m]\u001b[0m \u001b[0;34m=\u001b[0m \u001b[0;34m[\u001b[0m\u001b[0;34m'No'\u001b[0m \u001b[0;32mif\u001b[0m \u001b[0mnp\u001b[0m\u001b[0;34m.\u001b[0m\u001b[0misnan\u001b[0m\u001b[0;34m(\u001b[0m\u001b[0mi\u001b[0m\u001b[0;34m)\u001b[0m \u001b[0;32melse\u001b[0m \u001b[0;34m'Yes'\u001b[0m \u001b[0;32mfor\u001b[0m \u001b[0mi\u001b[0m \u001b[0;32min\u001b[0m \u001b[0mconsolidated_df\u001b[0m\u001b[0;34m[\u001b[0m\u001b[0;34m'Team'\u001b[0m\u001b[0;34m]\u001b[0m\u001b[0;34m]\u001b[0m\u001b[0;34m\u001b[0m\u001b[0;34m\u001b[0m\u001b[0m\n\u001b[1;32m      3\u001b[0m \u001b[0mconsolidated_df\u001b[0m\u001b[0;34m.\u001b[0m\u001b[0mdrop\u001b[0m\u001b[0;34m(\u001b[0m\u001b[0;34m[\u001b[0m\u001b[0;34m'Seed'\u001b[0m\u001b[0;34m,\u001b[0m\u001b[0;34m'Team'\u001b[0m\u001b[0;34m]\u001b[0m\u001b[0;34m,\u001b[0m \u001b[0maxis\u001b[0m \u001b[0;34m=\u001b[0m \u001b[0;36m1\u001b[0m\u001b[0;34m)\u001b[0m\u001b[0;34m\u001b[0m\u001b[0;34m\u001b[0m\u001b[0m\n\u001b[1;32m      4\u001b[0m \u001b[0mprint\u001b[0m\u001b[0;34m(\u001b[0m\u001b[0mconsolidated_df\u001b[0m\u001b[0;34m[\u001b[0m\u001b[0;34m'WteamTourneyQual'\u001b[0m\u001b[0;34m]\u001b[0m\u001b[0;34m.\u001b[0m\u001b[0mvalue_counts\u001b[0m\u001b[0;34m(\u001b[0m\u001b[0;34m)\u001b[0m\u001b[0;34m)\u001b[0m\u001b[0;34m\u001b[0m\u001b[0;34m\u001b[0m\u001b[0m\n",
      "\u001b[0;31mNameError\u001b[0m: name 'ncaa_regular_season_statistics' is not defined"
     ]
    }
   ],
   "source": [
    "consolidated_df = ncaa_regular_season_statistics.merge(ncaa_tournament_seeds, how='left', left_on=[\"Season\", \"Wteam\"], right_on=[\"Season\", \"Team\"])\n",
    "consolidated_df['WteamTourneyQual'] = ['No' if np.isnan(i) else 'Yes' for i in consolidated_df['Team']]\n",
    "consolidated_df.drop(['Seed','Team'], axis = 1)\n",
    "print(consolidated_df['WteamTourneyQual'].value_counts())"
   ]
  },
  {
   "cell_type": "code",
   "execution_count": null,
   "id": "8f43f9d4",
   "metadata": {},
   "outputs": [],
   "source": []
  },
  {
   "cell_type": "code",
   "execution_count": null,
   "id": "de0c94f0",
   "metadata": {},
   "outputs": [],
   "source": [
    "#3) Provide at least two initial visualizations that describe your data. These can be a correlation plot of all the variables, a boxplot or density plots of the variables, or even a plot specific to any of the questions you are trying to tackle. (Sid)"
   ]
  },
  {
   "cell_type": "code",
   "execution_count": null,
   "id": "4a7e2615",
   "metadata": {},
   "outputs": [],
   "source": []
  },
  {
   "cell_type": "code",
   "execution_count": null,
   "id": "133a88e5",
   "metadata": {},
   "outputs": [],
   "source": [
    "#4) Define your classification or prediction variables (if you're doing unsupervised learning). (Megan)"
   ]
  },
  {
   "cell_type": "code",
   "execution_count": null,
   "id": "ec6883fc",
   "metadata": {},
   "outputs": [],
   "source": []
  },
  {
   "cell_type": "code",
   "execution_count": null,
   "id": "0dc9bfba",
   "metadata": {},
   "outputs": [],
   "source": []
  },
  {
   "cell_type": "code",
   "execution_count": null,
   "id": "fde2b03e",
   "metadata": {},
   "outputs": [],
   "source": [
    "#5) Define 3 questions you want to answer with your datasets."
   ]
  },
  {
   "cell_type": "code",
   "execution_count": null,
   "id": "d9ca3f29",
   "metadata": {},
   "outputs": [],
   "source": [
    "#Predict team score of the winning team (Wscore column) through a regression model - Great idea!! (Anchal)"
   ]
  },
  {
   "cell_type": "code",
   "execution_count": null,
   "id": "6a4fcf5f",
   "metadata": {},
   "outputs": [],
   "source": [
    "#Classification study to predict if winning team was playing at home, road, or neutral venue (Wloc column) - Great idea!! (Megan)"
   ]
  },
  {
   "cell_type": "code",
   "execution_count": null,
   "id": "257de6f5",
   "metadata": {},
   "outputs": [],
   "source": [
    "#Predict whether for each year, the winning team qualified to the tournament or not - Great idea!! (Sid)"
   ]
  },
  {
   "cell_type": "code",
   "execution_count": null,
   "id": "eb31f0eb",
   "metadata": {},
   "outputs": [],
   "source": []
  },
  {
   "cell_type": "code",
   "execution_count": null,
   "id": "b82bc8a1",
   "metadata": {},
   "outputs": [],
   "source": []
  },
  {
   "cell_type": "code",
   "execution_count": null,
   "id": "a5e058f8",
   "metadata": {},
   "outputs": [],
   "source": []
  },
  {
   "cell_type": "code",
   "execution_count": null,
   "id": "ed22f7e1",
   "metadata": {},
   "outputs": [],
   "source": [
    "#6) Do a pre-liminary test. Train a model (prediction or classification) with your clean dataset. Report how good is this initial test. (Megan)"
   ]
  },
  {
   "cell_type": "code",
   "execution_count": null,
   "id": "ea174578",
   "metadata": {},
   "outputs": [],
   "source": []
  },
  {
   "cell_type": "code",
   "execution_count": null,
   "id": "173bd99b",
   "metadata": {},
   "outputs": [],
   "source": []
  },
  {
   "cell_type": "code",
   "execution_count": null,
   "id": "e8ce2a97",
   "metadata": {},
   "outputs": [],
   "source": [
    "#7) References"
   ]
  },
  {
   "cell_type": "code",
   "execution_count": null,
   "id": "48cc2819",
   "metadata": {},
   "outputs": [],
   "source": []
  },
  {
   "cell_type": "code",
   "execution_count": null,
   "id": "784bd9f7",
   "metadata": {},
   "outputs": [],
   "source": []
  }
 ],
 "metadata": {
  "kernelspec": {
   "display_name": "Python 3",
   "language": "python",
   "name": "python3"
  },
  "language_info": {
   "codemirror_mode": {
    "name": "ipython",
    "version": 3
   },
   "file_extension": ".py",
   "mimetype": "text/x-python",
   "name": "python",
   "nbconvert_exporter": "python",
   "pygments_lexer": "ipython3",
   "version": "3.8.8"
  }
 },
 "nbformat": 4,
 "nbformat_minor": 5
}
