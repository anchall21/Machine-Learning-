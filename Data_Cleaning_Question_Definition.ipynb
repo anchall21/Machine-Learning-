{
 "cells": [
  {
   "cell_type": "code",
   "execution_count": 1,
   "id": "20dbabe7",
   "metadata": {},
   "outputs": [],
   "source": [
    "#Import required libraries\n",
    "import pandas as pd\n",
    "import numpy as np"
   ]
  },
  {
   "cell_type": "code",
   "execution_count": null,
   "id": "349f2db4",
   "metadata": {},
   "outputs": [],
   "source": []
  },
  {
   "cell_type": "code",
   "execution_count": 86,
   "id": "4dd95cde",
   "metadata": {},
   "outputs": [],
   "source": [
    "#1) Reading and Cleaning your dataset/s (Anchal)"
   ]
  },
  {
   "cell_type": "code",
   "execution_count": 2,
   "id": "f20ffb97",
   "metadata": {},
   "outputs": [],
   "source": [
    "ncaa_regular_season_statistics = pd.read_csv(\"RegularSeasonDetailedResults.csv\")\n",
    "ncaa_tournament_seeds = pd.read_csv(\"TourneySeeds.csv\")\n",
    "\n",
    "#Convert H/A/N to Home/Away/Neutral\n",
    "#Change column names to make it more clear\n",
    "#Check for NaN's"
   ]
  },
  {
   "cell_type": "code",
   "execution_count": null,
   "id": "86ef669b",
   "metadata": {},
   "outputs": [],
   "source": [
    "import pandas as pd\n",
    "bikes = pd.read_csv('daily_citi_bike_trip_counts_and_weather.csv')\n",
    "bikes.isnull().sum()\n",
    "bikes.dropna(inplace = True)\n",
    "print(bikes.head(5))"
   ]
  },
  {
   "cell_type": "code",
   "execution_count": 88,
   "id": "449d4940",
   "metadata": {},
   "outputs": [],
   "source": [
    "#2) Decide whether you are merging your datasets or keeping them separate.\n",
    "#Merge RegularSeasonDetailedResults.csv with TourneySeeds.csv. \n",
    "#Get all 'Team' from TourneySeeds.csv and check to see if present in Wteam in RegularSeasonDetailedResults.csv.\n",
    "#Create a new column called 'WteamTourneyQual' and populate with Yes or No based on match"
   ]
  },
  {
   "cell_type": "code",
   "execution_count": 89,
   "id": "6e22ca3b",
   "metadata": {},
   "outputs": [
    {
     "name": "stdout",
     "output_type": "stream",
     "text": [
      "No     49914\n",
      "Yes    21327\n",
      "Name: WteamTourneyQual, dtype: int64\n"
     ]
    }
   ],
   "source": [
    "consolidated_df = ncaa_regular_season_statistics.merge(ncaa_tournament_seeds, how='left', left_on=[\"Season\", \"Wteam\"], right_on=[\"Season\", \"Team\"])\n",
    "consolidated_df['WteamTourneyQual'] = ['No' if np.isnan(i) else 'Yes' for i in consolidated_df['Team']]\n",
    "consolidated_df.drop(['Seed','Team'], axis = 1)\n",
    "print(consolidated_df['WteamTourneyQual'].value_counts())"
   ]
  },
  {
   "cell_type": "code",
   "execution_count": null,
   "id": "8f43f9d4",
   "metadata": {},
   "outputs": [],
   "source": []
  },
  {
   "cell_type": "code",
   "execution_count": 90,
   "id": "de0c94f0",
   "metadata": {},
   "outputs": [],
   "source": [
    "#3) Provide at least two initial visualizations that describe your data. These can be a correlation plot of all the variables, a boxplot or density plots of the variables, or even a plot specific to any of the questions you are trying to tackle. (Sid)"
   ]
  },
  {
   "cell_type": "code",
   "execution_count": null,
   "id": "4a7e2615",
   "metadata": {},
   "outputs": [],
   "source": []
  },
  {
   "cell_type": "code",
   "execution_count": 91,
   "id": "133a88e5",
   "metadata": {},
   "outputs": [],
   "source": [
    "#4) Define your classification or prediction variables (if you're doing unsupervised learning). (Megan)"
   ]
  },
  {
   "cell_type": "code",
   "execution_count": null,
   "id": "ec6883fc",
   "metadata": {},
   "outputs": [],
   "source": []
  },
  {
   "cell_type": "code",
   "execution_count": null,
   "id": "0dc9bfba",
   "metadata": {},
   "outputs": [],
   "source": []
  },
  {
   "cell_type": "code",
   "execution_count": 92,
   "id": "fde2b03e",
   "metadata": {},
   "outputs": [],
   "source": [
    "#5) Define 3 questions you want to answer with your datasets."
   ]
  },
  {
   "cell_type": "code",
   "execution_count": 93,
   "id": "d9ca3f29",
   "metadata": {},
   "outputs": [],
   "source": [
    "#Predict team score of the winning team (Wscore column) through a regression model - Great idea!! (Anchal)"
   ]
  },
  {
   "cell_type": "code",
   "execution_count": 94,
   "id": "6a4fcf5f",
   "metadata": {},
   "outputs": [],
   "source": [
    "#Classification study to predict if winning team was playing at home, road, or neutral venue (Wloc column) - Great idea!! (Megan)"
   ]
  },
  {
   "cell_type": "code",
   "execution_count": null,
   "id": "257de6f5",
   "metadata": {},
   "outputs": [],
   "source": [
    "#Predict whether for each year, the winning team qualified to the tournament or not - Great idea!! (Sid)"
   ]
  },
  {
   "cell_type": "code",
   "execution_count": 95,
   "id": "eb31f0eb",
   "metadata": {},
   "outputs": [],
   "source": []
  },
  {
   "cell_type": "code",
   "execution_count": 97,
   "id": "b82bc8a1",
   "metadata": {},
   "outputs": [],
   "source": []
  },
  {
   "cell_type": "code",
   "execution_count": null,
   "id": "a5e058f8",
   "metadata": {},
   "outputs": [],
   "source": []
  },
  {
   "cell_type": "code",
   "execution_count": 98,
   "id": "ed22f7e1",
   "metadata": {},
   "outputs": [],
   "source": [
    "#6) Do a pre-liminary test. Train a model (prediction or classification) with your clean dataset. Report how good is this initial test. (Megan)"
   ]
  },
  {
   "cell_type": "code",
   "execution_count": null,
   "id": "ea174578",
   "metadata": {},
   "outputs": [],
   "source": []
  },
  {
   "cell_type": "code",
   "execution_count": null,
   "id": "173bd99b",
   "metadata": {},
   "outputs": [],
   "source": []
  },
  {
   "cell_type": "code",
   "execution_count": null,
   "id": "e8ce2a97",
   "metadata": {},
   "outputs": [],
   "source": [
    "#7) References"
   ]
  },
  {
   "cell_type": "code",
   "execution_count": null,
   "id": "48cc2819",
   "metadata": {},
   "outputs": [],
   "source": []
  },
  {
   "cell_type": "code",
   "execution_count": null,
   "id": "784bd9f7",
   "metadata": {},
   "outputs": [],
   "source": []
  }
 ],
 "metadata": {
  "kernelspec": {
   "display_name": "Python 3",
   "language": "python",
   "name": "python3"
  },
  "language_info": {
   "codemirror_mode": {
    "name": "ipython",
    "version": 3
   },
   "file_extension": ".py",
   "mimetype": "text/x-python",
   "name": "python",
   "nbconvert_exporter": "python",
   "pygments_lexer": "ipython3",
   "version": "3.8.8"
  }
 },
 "nbformat": 4,
 "nbformat_minor": 5
}
